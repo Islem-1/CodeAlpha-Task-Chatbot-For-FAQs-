{
 "cells": [
  {
   "cell_type": "code",
   "execution_count": 1,
   "id": "772edbdb",
   "metadata": {
    "execution": {
     "iopub.execute_input": "2021-10-13T14:25:55.995873Z",
     "iopub.status.busy": "2021-10-13T14:25:55.994691Z",
     "iopub.status.idle": "2021-10-13T14:25:57.905027Z",
     "shell.execute_reply": "2021-10-13T14:25:57.905530Z",
     "shell.execute_reply.started": "2021-10-13T14:25:08.259915Z"
    },
    "id": "iFDfpk7HQwGz",
    "outputId": "eb1eb550-ea26-4e7b-bd7e-2a96723ac1e9",
    "papermill": {
     "duration": 1.944358,
     "end_time": "2021-10-13T14:25:57.905804",
     "exception": false,
     "start_time": "2021-10-13T14:25:55.961446",
     "status": "completed"
    },
    "tags": []
   },
   "outputs": [
    {
     "name": "stderr",
     "output_type": "stream",
     "text": [
      "[nltk_data] Downloading package wordnet to\n",
      "[nltk_data]     C:\\Users\\eyabe\\AppData\\Roaming\\nltk_data...\n",
      "[nltk_data]   Package wordnet is already up-to-date!\n",
      "[nltk_data] Downloading package stopwords to\n",
      "[nltk_data]     C:\\Users\\eyabe\\AppData\\Roaming\\nltk_data...\n",
      "[nltk_data]   Package stopwords is already up-to-date!\n"
     ]
    },
    {
     "data": {
      "text/plain": [
       "True"
      ]
     },
     "execution_count": 1,
     "metadata": {},
     "output_type": "execute_result"
    }
   ],
   "source": [
    "import pandas as pd\n",
    "import numpy as np\n",
    "import string\n",
    "import re\n",
    "import nltk\n",
    "nltk.download('wordnet')\n",
    "nltk.download('stopwords')"
   ]
  },
  {
   "cell_type": "code",
   "execution_count": 2,
   "id": "f7eac5a7",
   "metadata": {
    "execution": {
     "iopub.execute_input": "2021-10-13T14:25:57.964332Z",
     "iopub.status.busy": "2021-10-13T14:25:57.963680Z",
     "iopub.status.idle": "2021-10-13T14:25:58.018716Z",
     "shell.execute_reply": "2021-10-13T14:25:58.019308Z",
     "shell.execute_reply.started": "2021-10-13T14:25:09.609138Z"
    },
    "id": "HtYw5753qb50",
    "outputId": "295694bf-a06e-4550-a102-12243dd62dc0",
    "papermill": {
     "duration": 0.085331,
     "end_time": "2021-10-13T14:25:58.019490",
     "exception": false,
     "start_time": "2021-10-13T14:25:57.934159",
     "status": "completed"
    },
    "tags": []
   },
   "outputs": [
    {
     "name": "stderr",
     "output_type": "stream",
     "text": [
      "[nltk_data] Downloading package punkt to\n",
      "[nltk_data]     C:\\Users\\eyabe\\AppData\\Roaming\\nltk_data...\n",
      "[nltk_data]   Package punkt is already up-to-date!\n"
     ]
    },
    {
     "data": {
      "text/plain": [
       "True"
      ]
     },
     "execution_count": 2,
     "metadata": {},
     "output_type": "execute_result"
    }
   ],
   "source": [
    "\n",
    "nltk.download('punkt')"
   ]
  },
  {
   "cell_type": "code",
   "execution_count": 3,
   "id": "1d265f55",
   "metadata": {
    "execution": {
     "iopub.execute_input": "2021-10-13T14:25:58.080749Z",
     "iopub.status.busy": "2021-10-13T14:25:58.080057Z",
     "iopub.status.idle": "2021-10-13T14:25:58.126507Z",
     "shell.execute_reply": "2021-10-13T14:25:58.125954Z",
     "shell.execute_reply.started": "2021-10-13T14:25:09.659370Z"
    },
    "id": "b-zXdAKSQ-c0",
    "outputId": "03d37f28-1c9b-4f31-82dd-9f45d70da299",
    "papermill": {
     "duration": 0.077519,
     "end_time": "2021-10-13T14:25:58.126656",
     "exception": false,
     "start_time": "2021-10-13T14:25:58.049137",
     "status": "completed"
    },
    "tags": []
   },
   "outputs": [
    {
     "name": "stdout",
     "output_type": "stream",
     "text": [
      "<class 'pandas.core.frame.DataFrame'>\n",
      "RangeIndex: 98 entries, 0 to 97\n",
      "Data columns (total 3 columns):\n",
      " #   Column       Non-Null Count  Dtype \n",
      "---  ------       --------------  ----- \n",
      " 0   Question_ID  98 non-null     int64 \n",
      " 1   Questions    98 non-null     object\n",
      " 2   Answers      98 non-null     object\n",
      "dtypes: int64(1), object(2)\n",
      "memory usage: 2.4+ KB\n"
     ]
    }
   ],
   "source": [
    "df=pd.read_csv(\"Mental_Health_FAQ.csv\")\n",
    "df.info()"
   ]
  },
  {
   "cell_type": "code",
   "execution_count": 4,
   "id": "7cd3cacb",
   "metadata": {
    "execution": {
     "iopub.execute_input": "2021-10-13T14:25:58.188100Z",
     "iopub.status.busy": "2021-10-13T14:25:58.187175Z",
     "iopub.status.idle": "2021-10-13T14:25:58.199050Z",
     "shell.execute_reply": "2021-10-13T14:25:58.199531Z",
     "shell.execute_reply.started": "2021-10-13T14:25:09.706661Z"
    },
    "id": "zU6Br9hnRDLY",
    "outputId": "cac25193-212f-4ee6-be4a-cd71745f26a3",
    "papermill": {
     "duration": 0.045051,
     "end_time": "2021-10-13T14:25:58.199693",
     "exception": false,
     "start_time": "2021-10-13T14:25:58.154642",
     "status": "completed"
    },
    "tags": []
   },
   "outputs": [
    {
     "data": {
      "text/html": [
       "<div>\n",
       "<style scoped>\n",
       "    .dataframe tbody tr th:only-of-type {\n",
       "        vertical-align: middle;\n",
       "    }\n",
       "\n",
       "    .dataframe tbody tr th {\n",
       "        vertical-align: top;\n",
       "    }\n",
       "\n",
       "    .dataframe thead th {\n",
       "        text-align: right;\n",
       "    }\n",
       "</style>\n",
       "<table border=\"1\" class=\"dataframe\">\n",
       "  <thead>\n",
       "    <tr style=\"text-align: right;\">\n",
       "      <th></th>\n",
       "      <th>Question_ID</th>\n",
       "      <th>Questions</th>\n",
       "      <th>Answers</th>\n",
       "    </tr>\n",
       "  </thead>\n",
       "  <tbody>\n",
       "    <tr>\n",
       "      <th>0</th>\n",
       "      <td>1590140</td>\n",
       "      <td>What does it mean to have a mental illness?</td>\n",
       "      <td>Mental illnesses are health conditions that di...</td>\n",
       "    </tr>\n",
       "    <tr>\n",
       "      <th>1</th>\n",
       "      <td>2110618</td>\n",
       "      <td>Who does mental illness affect?</td>\n",
       "      <td>It is estimated that mental illness affects 1 ...</td>\n",
       "    </tr>\n",
       "    <tr>\n",
       "      <th>2</th>\n",
       "      <td>6361820</td>\n",
       "      <td>What causes mental illness?</td>\n",
       "      <td>It is estimated that mental illness affects 1 ...</td>\n",
       "    </tr>\n",
       "    <tr>\n",
       "      <th>3</th>\n",
       "      <td>9434130</td>\n",
       "      <td>What are some of the warning signs of mental i...</td>\n",
       "      <td>Symptoms of mental health disorders vary depen...</td>\n",
       "    </tr>\n",
       "    <tr>\n",
       "      <th>4</th>\n",
       "      <td>7657263</td>\n",
       "      <td>Can people with mental illness recover?</td>\n",
       "      <td>When healing from mental illness, early identi...</td>\n",
       "    </tr>\n",
       "  </tbody>\n",
       "</table>\n",
       "</div>"
      ],
      "text/plain": [
       "   Question_ID                                          Questions  \\\n",
       "0      1590140        What does it mean to have a mental illness?   \n",
       "1      2110618                    Who does mental illness affect?   \n",
       "2      6361820                        What causes mental illness?   \n",
       "3      9434130  What are some of the warning signs of mental i...   \n",
       "4      7657263            Can people with mental illness recover?   \n",
       "\n",
       "                                             Answers  \n",
       "0  Mental illnesses are health conditions that di...  \n",
       "1  It is estimated that mental illness affects 1 ...  \n",
       "2  It is estimated that mental illness affects 1 ...  \n",
       "3  Symptoms of mental health disorders vary depen...  \n",
       "4  When healing from mental illness, early identi...  "
      ]
     },
     "execution_count": 4,
     "metadata": {},
     "output_type": "execute_result"
    }
   ],
   "source": [
    "df.head()"
   ]
  },
  {
   "cell_type": "code",
   "execution_count": null,
   "id": "9bf2aeda",
   "metadata": {
    "id": "vzTqr0PINZCw",
    "papermill": {
     "duration": 0.028247,
     "end_time": "2021-10-13T14:25:58.256647",
     "exception": false,
     "start_time": "2021-10-13T14:25:58.228400",
     "status": "completed"
    },
    "tags": []
   },
   "outputs": [],
   "source": []
  },
  {
   "cell_type": "code",
   "execution_count": 5,
   "id": "5129fd52",
   "metadata": {
    "execution": {
     "iopub.execute_input": "2021-10-13T14:25:58.316871Z",
     "iopub.status.busy": "2021-10-13T14:25:58.316254Z",
     "iopub.status.idle": "2021-10-13T14:25:58.320830Z",
     "shell.execute_reply": "2021-10-13T14:25:58.321321Z",
     "shell.execute_reply.started": "2021-10-13T14:25:09.821565Z"
    },
    "id": "irNwfglNRCZb",
    "papermill": {
     "duration": 0.036187,
     "end_time": "2021-10-13T14:25:58.321526",
     "exception": false,
     "start_time": "2021-10-13T14:25:58.285339",
     "status": "completed"
    },
    "tags": []
   },
   "outputs": [],
   "source": [
    "df=df.drop([\"Question_ID\"],axis=\"columns\")"
   ]
  },
  {
   "cell_type": "code",
   "execution_count": 6,
   "id": "c8b80bf8",
   "metadata": {
    "execution": {
     "iopub.execute_input": "2021-10-13T14:25:58.384652Z",
     "iopub.status.busy": "2021-10-13T14:25:58.384013Z",
     "iopub.status.idle": "2021-10-13T14:25:58.386258Z",
     "shell.execute_reply": "2021-10-13T14:25:58.386738Z",
     "shell.execute_reply.started": "2021-10-13T14:25:09.827226Z"
    },
    "id": "HYNzuj_bVqOk",
    "papermill": {
     "duration": 0.036955,
     "end_time": "2021-10-13T14:25:58.386896",
     "exception": false,
     "start_time": "2021-10-13T14:25:58.349941",
     "status": "completed"
    },
    "tags": []
   },
   "outputs": [],
   "source": [
    "from nltk.tokenize import word_tokenize\n",
    "df[\"Questions\"]=df[\"Questions\"].str.lower()"
   ]
  },
  {
   "cell_type": "code",
   "execution_count": 7,
   "id": "09b7d40a",
   "metadata": {
    "execution": {
     "iopub.execute_input": "2021-10-13T14:25:58.446979Z",
     "iopub.status.busy": "2021-10-13T14:25:58.446326Z",
     "iopub.status.idle": "2021-10-13T14:25:58.450568Z",
     "shell.execute_reply": "2021-10-13T14:25:58.450066Z",
     "shell.execute_reply.started": "2021-10-13T14:25:09.839238Z"
    },
    "id": "goQRvdJDoGtM",
    "papermill": {
     "duration": 0.035392,
     "end_time": "2021-10-13T14:25:58.450698",
     "exception": false,
     "start_time": "2021-10-13T14:25:58.415306",
     "status": "completed"
    },
    "tags": []
   },
   "outputs": [],
   "source": [
    "text=df[\"Questions\"][0]"
   ]
  },
  {
   "cell_type": "code",
   "execution_count": 8,
   "id": "0bca4e53",
   "metadata": {
    "execution": {
     "iopub.execute_input": "2021-10-13T14:25:58.514797Z",
     "iopub.status.busy": "2021-10-13T14:25:58.514156Z",
     "iopub.status.idle": "2021-10-13T14:25:58.533643Z",
     "shell.execute_reply": "2021-10-13T14:25:58.532900Z",
     "shell.execute_reply.started": "2021-10-13T14:25:09.845947Z"
    },
    "id": "QJ5bwFN2pwnF",
    "papermill": {
     "duration": 0.054486,
     "end_time": "2021-10-13T14:25:58.533799",
     "exception": false,
     "start_time": "2021-10-13T14:25:58.479313",
     "status": "completed"
    },
    "tags": []
   },
   "outputs": [],
   "source": [
    "from nltk.tokenize import RegexpTokenizer\n",
    "text = re.sub(r'[^\\w\\s]', '', text)\n",
    "words = word_tokenize(text) "
   ]
  },
  {
   "cell_type": "code",
   "execution_count": 9,
   "id": "88ea8320",
   "metadata": {
    "execution": {
     "iopub.execute_input": "2021-10-13T14:25:58.613428Z",
     "iopub.status.busy": "2021-10-13T14:25:58.612610Z",
     "iopub.status.idle": "2021-10-13T14:25:58.616373Z",
     "shell.execute_reply": "2021-10-13T14:25:58.615836Z",
     "shell.execute_reply.started": "2021-10-13T14:25:09.864546Z"
    },
    "id": "IxJ9FFbGqjEr",
    "outputId": "835f2788-9c67-4edd-df42-ba79735e652e",
    "papermill": {
     "duration": 0.044068,
     "end_time": "2021-10-13T14:25:58.616513",
     "exception": false,
     "start_time": "2021-10-13T14:25:58.572445",
     "status": "completed"
    },
    "tags": []
   },
   "outputs": [
    {
     "name": "stdout",
     "output_type": "stream",
     "text": [
      "['what', 'does', 'it', 'mean', 'to', 'have', 'a', 'mental', 'illness']\n"
     ]
    }
   ],
   "source": [
    "print(words)"
   ]
  },
  {
   "cell_type": "code",
   "execution_count": 10,
   "id": "3d4f8c4b",
   "metadata": {
    "execution": {
     "iopub.execute_input": "2021-10-13T14:25:58.681766Z",
     "iopub.status.busy": "2021-10-13T14:25:58.680913Z",
     "iopub.status.idle": "2021-10-13T14:26:00.913020Z",
     "shell.execute_reply": "2021-10-13T14:26:00.913565Z",
     "shell.execute_reply.started": "2021-10-13T14:25:09.869688Z"
    },
    "id": "4idzhwTew3XV",
    "papermill": {
     "duration": 2.267351,
     "end_time": "2021-10-13T14:26:00.913737",
     "exception": false,
     "start_time": "2021-10-13T14:25:58.646386",
     "status": "completed"
    },
    "tags": []
   },
   "outputs": [],
   "source": [
    "from nltk.stem import WordNetLemmatizer\n",
    "wnl = WordNetLemmatizer()\n",
    "text=\" \".join([wnl.lemmatize(t) for t in text.split() ])"
   ]
  },
  {
   "cell_type": "code",
   "execution_count": 11,
   "id": "23447152",
   "metadata": {
    "execution": {
     "iopub.execute_input": "2021-10-13T14:26:00.976370Z",
     "iopub.status.busy": "2021-10-13T14:26:00.975660Z",
     "iopub.status.idle": "2021-10-13T14:26:00.980055Z",
     "shell.execute_reply": "2021-10-13T14:26:00.980563Z",
     "shell.execute_reply.started": "2021-10-13T14:25:11.817864Z"
    },
    "id": "Cnye8yjO0P7V",
    "papermill": {
     "duration": 0.036911,
     "end_time": "2021-10-13T14:26:00.980734",
     "exception": false,
     "start_time": "2021-10-13T14:26:00.943823",
     "status": "completed"
    },
    "tags": []
   },
   "outputs": [
    {
     "data": {
      "text/plain": [
       "'what doe it mean to have a mental illness'"
      ]
     },
     "execution_count": 11,
     "metadata": {},
     "output_type": "execute_result"
    }
   ],
   "source": [
    "text"
   ]
  },
  {
   "cell_type": "code",
   "execution_count": 12,
   "id": "64e8660b",
   "metadata": {
    "execution": {
     "iopub.execute_input": "2021-10-13T14:26:01.042186Z",
     "iopub.status.busy": "2021-10-13T14:26:01.041573Z",
     "iopub.status.idle": "2021-10-13T14:26:01.047423Z",
     "shell.execute_reply": "2021-10-13T14:26:01.046870Z",
     "shell.execute_reply.started": "2021-10-13T14:25:11.824840Z"
    },
    "id": "aAw72wIR0puE",
    "papermill": {
     "duration": 0.037473,
     "end_time": "2021-10-13T14:26:01.047562",
     "exception": false,
     "start_time": "2021-10-13T14:26:01.010089",
     "status": "completed"
    },
    "tags": []
   },
   "outputs": [],
   "source": [
    "from nltk.corpus import stopwords  \n",
    "stopwords=stopwords.words('english')"
   ]
  },
  {
   "cell_type": "code",
   "execution_count": 13,
   "id": "67067007",
   "metadata": {
    "execution": {
     "iopub.execute_input": "2021-10-13T14:26:01.112316Z",
     "iopub.status.busy": "2021-10-13T14:26:01.111296Z",
     "iopub.status.idle": "2021-10-13T14:26:01.113676Z",
     "shell.execute_reply": "2021-10-13T14:26:01.114145Z",
     "shell.execute_reply.started": "2021-10-13T14:25:11.833656Z"
    },
    "id": "-_KeS6Hey3nf",
    "papermill": {
     "duration": 0.037329,
     "end_time": "2021-10-13T14:26:01.114311",
     "exception": false,
     "start_time": "2021-10-13T14:26:01.076982",
     "status": "completed"
    },
    "tags": []
   },
   "outputs": [],
   "source": [
    "def data_prep(text):\n",
    "  text=text.lower()\n",
    "  text = re.sub(r'[^\\w\\s]', '', text)\n",
    "  text=\" \".join(t for t in text.split() if t not in stopwords)\n",
    "  return text"
   ]
  },
  {
   "cell_type": "code",
   "execution_count": 14,
   "id": "51ccff9f",
   "metadata": {
    "execution": {
     "iopub.execute_input": "2021-10-13T14:26:01.178440Z",
     "iopub.status.busy": "2021-10-13T14:26:01.177747Z",
     "iopub.status.idle": "2021-10-13T14:26:01.180412Z",
     "shell.execute_reply": "2021-10-13T14:26:01.180875Z",
     "shell.execute_reply.started": "2021-10-13T14:25:11.843166Z"
    },
    "id": "xxfphc2D5NWm",
    "outputId": "3690149f-6d05-41ff-8ab5-6d83e3ec2951",
    "papermill": {
     "duration": 0.037221,
     "end_time": "2021-10-13T14:26:01.181061",
     "exception": false,
     "start_time": "2021-10-13T14:26:01.143840",
     "status": "completed"
    },
    "tags": []
   },
   "outputs": [
    {
     "name": "stdout",
     "output_type": "stream",
     "text": [
      "doe mean mental illness\n"
     ]
    }
   ],
   "source": [
    "print(data_prep(text))"
   ]
  },
  {
   "cell_type": "code",
   "execution_count": 15,
   "id": "671b91d0",
   "metadata": {
    "execution": {
     "iopub.execute_input": "2021-10-13T14:26:01.244246Z",
     "iopub.status.busy": "2021-10-13T14:26:01.243282Z",
     "iopub.status.idle": "2021-10-13T14:26:01.250469Z",
     "shell.execute_reply": "2021-10-13T14:26:01.250906Z",
     "shell.execute_reply.started": "2021-10-13T14:25:11.848925Z"
    },
    "id": "zJrKhXVi5xrg",
    "papermill": {
     "duration": 0.040667,
     "end_time": "2021-10-13T14:26:01.251121",
     "exception": false,
     "start_time": "2021-10-13T14:26:01.210454",
     "status": "completed"
    },
    "tags": []
   },
   "outputs": [],
   "source": [
    "df[\"Questions\"]=df[\"Questions\"].apply(data_prep)"
   ]
  },
  {
   "cell_type": "code",
   "execution_count": 16,
   "id": "40c86ae8",
   "metadata": {
    "execution": {
     "iopub.execute_input": "2021-10-13T14:26:01.313888Z",
     "iopub.status.busy": "2021-10-13T14:26:01.312919Z",
     "iopub.status.idle": "2021-10-13T14:26:01.320098Z",
     "shell.execute_reply": "2021-10-13T14:26:01.320544Z",
     "shell.execute_reply.started": "2021-10-13T14:25:11.860295Z"
    },
    "id": "uyED2ZhT59uk",
    "outputId": "4f21ae83-e40c-42ea-ac01-a41f3024bfa1",
    "papermill": {
     "duration": 0.040273,
     "end_time": "2021-10-13T14:26:01.320711",
     "exception": false,
     "start_time": "2021-10-13T14:26:01.280438",
     "status": "completed"
    },
    "tags": []
   },
   "outputs": [
    {
     "data": {
      "text/plain": [
       "0               mean mental illness\n",
       "1             mental illness affect\n",
       "2             causes mental illness\n",
       "3      warning signs mental illness\n",
       "4     people mental illness recover\n",
       "                  ...              \n",
       "93            know im drinking much\n",
       "94    cannabis dangerous legalizing\n",
       "95          convince kids use drugs\n",
       "96    legal status evidence cbd oil\n",
       "97                  evidence vaping\n",
       "Name: Questions, Length: 98, dtype: object"
      ]
     },
     "execution_count": 16,
     "metadata": {},
     "output_type": "execute_result"
    }
   ],
   "source": [
    "df[\"Questions\"]"
   ]
  },
  {
   "cell_type": "code",
   "execution_count": 17,
   "id": "c3df0c9d",
   "metadata": {
    "execution": {
     "iopub.execute_input": "2021-10-13T14:26:01.384571Z",
     "iopub.status.busy": "2021-10-13T14:26:01.383550Z",
     "iopub.status.idle": "2021-10-13T14:26:01.389275Z",
     "shell.execute_reply": "2021-10-13T14:26:01.388593Z",
     "shell.execute_reply.started": "2021-10-13T14:25:11.869365Z"
    },
    "id": "9qdikbGoJGaW",
    "outputId": "3a99e733-c896-4fa3-858d-e03269595734",
    "papermill": {
     "duration": 0.038961,
     "end_time": "2021-10-13T14:26:01.389420",
     "exception": false,
     "start_time": "2021-10-13T14:26:01.350459",
     "status": "completed"
    },
    "tags": []
   },
   "outputs": [
    {
     "name": "stdout",
     "output_type": "stream",
     "text": [
      "mean mental illness\n"
     ]
    }
   ],
   "source": [
    "print(df[\"Questions\"][0])"
   ]
  },
  {
   "cell_type": "code",
   "execution_count": 18,
   "id": "9bb72592",
   "metadata": {
    "execution": {
     "iopub.execute_input": "2021-10-13T14:26:01.455147Z",
     "iopub.status.busy": "2021-10-13T14:26:01.454494Z",
     "iopub.status.idle": "2021-10-13T14:26:01.456277Z",
     "shell.execute_reply": "2021-10-13T14:26:01.456849Z",
     "shell.execute_reply.started": "2021-10-13T14:25:11.875382Z"
    },
    "id": "8MmdOyHbJ14V",
    "papermill": {
     "duration": 0.037193,
     "end_time": "2021-10-13T14:26:01.457032",
     "exception": false,
     "start_time": "2021-10-13T14:26:01.419839",
     "status": "completed"
    },
    "tags": []
   },
   "outputs": [],
   "source": [
    "from sklearn.feature_extraction.text import CountVectorizer\n",
    "from sklearn.feature_extraction.text import TfidfVectorizer"
   ]
  },
  {
   "cell_type": "code",
   "execution_count": 19,
   "id": "c19e7035",
   "metadata": {
    "execution": {
     "iopub.execute_input": "2021-10-13T14:26:01.520673Z",
     "iopub.status.busy": "2021-10-13T14:26:01.520027Z",
     "iopub.status.idle": "2021-10-13T14:26:01.533671Z",
     "shell.execute_reply": "2021-10-13T14:26:01.534201Z",
     "shell.execute_reply.started": "2021-10-13T14:25:11.882060Z"
    },
    "id": "3XFyQIVXJKrl",
    "papermill": {
     "duration": 0.046962,
     "end_time": "2021-10-13T14:26:01.534379",
     "exception": false,
     "start_time": "2021-10-13T14:26:01.487417",
     "status": "completed"
    },
    "tags": []
   },
   "outputs": [],
   "source": [
    "#Tfidf vectorizer\n",
    "Tfidf_vectorizer=TfidfVectorizer()\n",
    "#transformed train reviews\n",
    "tf_train=Tfidf_vectorizer.fit_transform(df[\"Questions\"])\n"
   ]
  },
  {
   "cell_type": "code",
   "execution_count": 24,
   "id": "a5b64f92",
   "metadata": {
    "execution": {
     "iopub.execute_input": "2021-10-13T14:26:01.732732Z",
     "iopub.status.busy": "2021-10-13T14:26:01.732079Z",
     "iopub.status.idle": "2021-10-13T14:26:01.733877Z",
     "shell.execute_reply": "2021-10-13T14:26:01.734453Z",
     "shell.execute_reply.started": "2021-10-13T14:25:11.907362Z"
    },
    "id": "0NpoLgSpNcRO",
    "papermill": {
     "duration": 0.039095,
     "end_time": "2021-10-13T14:26:01.734648",
     "exception": false,
     "start_time": "2021-10-13T14:26:01.695553",
     "status": "completed"
    },
    "tags": []
   },
   "outputs": [],
   "source": [
    "from sklearn.preprocessing import LabelEncoder\n",
    "label_encoder= LabelEncoder()\n",
    "df[\"Answers_Code\"]=label_encoder.fit_transform(df[\"Answers\"])"
   ]
  },
  {
   "cell_type": "code",
   "execution_count": 25,
   "id": "cef81745",
   "metadata": {
    "execution": {
     "iopub.execute_input": "2021-10-13T14:26:01.804640Z",
     "iopub.status.busy": "2021-10-13T14:26:01.803833Z",
     "iopub.status.idle": "2021-10-13T14:26:01.807049Z",
     "shell.execute_reply": "2021-10-13T14:26:01.807482Z",
     "shell.execute_reply.started": "2021-10-13T14:25:11.916787Z"
    },
    "id": "yNf1JL85PLU2",
    "outputId": "e12566ed-6085-4dbd-908d-989328f088b0",
    "papermill": {
     "duration": 0.04214,
     "end_time": "2021-10-13T14:26:01.807643",
     "exception": false,
     "start_time": "2021-10-13T14:26:01.765503",
     "status": "completed"
    },
    "tags": []
   },
   "outputs": [
    {
     "data": {
      "text/plain": [
       "0     48\n",
       "1     35\n",
       "2     36\n",
       "3     72\n",
       "4     91\n",
       "      ..\n",
       "93    69\n",
       "94    18\n",
       "95    96\n",
       "96    17\n",
       "97     0\n",
       "Name: Answers_Code, Length: 98, dtype: int32"
      ]
     },
     "execution_count": 25,
     "metadata": {},
     "output_type": "execute_result"
    }
   ],
   "source": [
    "df[\"Answers_Code\"]"
   ]
  },
  {
   "cell_type": "code",
   "execution_count": 26,
   "id": "41562851",
   "metadata": {
    "execution": {
     "iopub.execute_input": "2021-10-13T14:26:01.880223Z",
     "iopub.status.busy": "2021-10-13T14:26:01.879587Z",
     "iopub.status.idle": "2021-10-13T14:26:01.882196Z",
     "shell.execute_reply": "2021-10-13T14:26:01.882779Z",
     "shell.execute_reply.started": "2021-10-13T14:25:11.928196Z"
    },
    "id": "fvlWYOzUPX1-",
    "outputId": "6dd59027-b672-408f-b4c5-759c9a5d39c5",
    "papermill": {
     "duration": 0.044808,
     "end_time": "2021-10-13T14:26:01.882943",
     "exception": false,
     "start_time": "2021-10-13T14:26:01.838135",
     "status": "completed"
    },
    "tags": []
   },
   "outputs": [
    {
     "data": {
      "text/html": [
       "<div>\n",
       "<style scoped>\n",
       "    .dataframe tbody tr th:only-of-type {\n",
       "        vertical-align: middle;\n",
       "    }\n",
       "\n",
       "    .dataframe tbody tr th {\n",
       "        vertical-align: top;\n",
       "    }\n",
       "\n",
       "    .dataframe thead th {\n",
       "        text-align: right;\n",
       "    }\n",
       "</style>\n",
       "<table border=\"1\" class=\"dataframe\">\n",
       "  <thead>\n",
       "    <tr style=\"text-align: right;\">\n",
       "      <th></th>\n",
       "      <th>Questions</th>\n",
       "      <th>Answers</th>\n",
       "      <th>Answers_Code</th>\n",
       "    </tr>\n",
       "  </thead>\n",
       "  <tbody>\n",
       "    <tr>\n",
       "      <th>0</th>\n",
       "      <td>mean mental illness</td>\n",
       "      <td>Mental illnesses are health conditions that di...</td>\n",
       "      <td>48</td>\n",
       "    </tr>\n",
       "    <tr>\n",
       "      <th>1</th>\n",
       "      <td>mental illness affect</td>\n",
       "      <td>It is estimated that mental illness affects 1 ...</td>\n",
       "      <td>35</td>\n",
       "    </tr>\n",
       "    <tr>\n",
       "      <th>2</th>\n",
       "      <td>causes mental illness</td>\n",
       "      <td>It is estimated that mental illness affects 1 ...</td>\n",
       "      <td>36</td>\n",
       "    </tr>\n",
       "    <tr>\n",
       "      <th>3</th>\n",
       "      <td>warning signs mental illness</td>\n",
       "      <td>Symptoms of mental health disorders vary depen...</td>\n",
       "      <td>72</td>\n",
       "    </tr>\n",
       "    <tr>\n",
       "      <th>4</th>\n",
       "      <td>people mental illness recover</td>\n",
       "      <td>When healing from mental illness, early identi...</td>\n",
       "      <td>91</td>\n",
       "    </tr>\n",
       "    <tr>\n",
       "      <th>...</th>\n",
       "      <td>...</td>\n",
       "      <td>...</td>\n",
       "      <td>...</td>\n",
       "    </tr>\n",
       "    <tr>\n",
       "      <th>93</th>\n",
       "      <td>know im drinking much</td>\n",
       "      <td>Sorting out if you are drinking too much can b...</td>\n",
       "      <td>69</td>\n",
       "    </tr>\n",
       "    <tr>\n",
       "      <th>94</th>\n",
       "      <td>cannabis dangerous legalizing</td>\n",
       "      <td>Cannabis smoke, for example, contains cancer-c...</td>\n",
       "      <td>18</td>\n",
       "    </tr>\n",
       "    <tr>\n",
       "      <th>95</th>\n",
       "      <td>convince kids use drugs</td>\n",
       "      <td>You can't. But you can influence their capacit...</td>\n",
       "      <td>96</td>\n",
       "    </tr>\n",
       "    <tr>\n",
       "      <th>96</th>\n",
       "      <td>legal status evidence cbd oil</td>\n",
       "      <td>Cannabidiol or CBD is a naturally occurring co...</td>\n",
       "      <td>17</td>\n",
       "    </tr>\n",
       "    <tr>\n",
       "      <th>97</th>\n",
       "      <td>evidence vaping</td>\n",
       "      <td>\"Vaping\" is the term for using a device where ...</td>\n",
       "      <td>0</td>\n",
       "    </tr>\n",
       "  </tbody>\n",
       "</table>\n",
       "<p>98 rows × 3 columns</p>\n",
       "</div>"
      ],
      "text/plain": [
       "                        Questions  \\\n",
       "0             mean mental illness   \n",
       "1           mental illness affect   \n",
       "2           causes mental illness   \n",
       "3    warning signs mental illness   \n",
       "4   people mental illness recover   \n",
       "..                            ...   \n",
       "93          know im drinking much   \n",
       "94  cannabis dangerous legalizing   \n",
       "95        convince kids use drugs   \n",
       "96  legal status evidence cbd oil   \n",
       "97                evidence vaping   \n",
       "\n",
       "                                              Answers  Answers_Code  \n",
       "0   Mental illnesses are health conditions that di...            48  \n",
       "1   It is estimated that mental illness affects 1 ...            35  \n",
       "2   It is estimated that mental illness affects 1 ...            36  \n",
       "3   Symptoms of mental health disorders vary depen...            72  \n",
       "4   When healing from mental illness, early identi...            91  \n",
       "..                                                ...           ...  \n",
       "93  Sorting out if you are drinking too much can b...            69  \n",
       "94  Cannabis smoke, for example, contains cancer-c...            18  \n",
       "95  You can't. But you can influence their capacit...            96  \n",
       "96  Cannabidiol or CBD is a naturally occurring co...            17  \n",
       "97  \"Vaping\" is the term for using a device where ...             0  \n",
       "\n",
       "[98 rows x 3 columns]"
      ]
     },
     "execution_count": 26,
     "metadata": {},
     "output_type": "execute_result"
    }
   ],
   "source": [
    "df"
   ]
  },
  {
   "cell_type": "code",
   "execution_count": 27,
   "id": "f80e3d04",
   "metadata": {
    "execution": {
     "iopub.execute_input": "2021-10-13T14:26:01.949136Z",
     "iopub.status.busy": "2021-10-13T14:26:01.948403Z",
     "iopub.status.idle": "2021-10-13T14:26:01.976439Z",
     "shell.execute_reply": "2021-10-13T14:26:01.977230Z",
     "shell.execute_reply.started": "2021-10-13T14:25:11.942450Z"
    },
    "id": "VrEXgTBfVK0Z",
    "outputId": "31d192a7-e417-48b9-8825-7c85ad446ca4",
    "papermill": {
     "duration": 0.062749,
     "end_time": "2021-10-13T14:26:01.977499",
     "exception": false,
     "start_time": "2021-10-13T14:26:01.914750",
     "status": "completed"
    },
    "tags": []
   },
   "outputs": [
    {
     "data": {
      "text/html": [
       "<style>#sk-container-id-1 {\n",
       "  /* Definition of color scheme common for light and dark mode */\n",
       "  --sklearn-color-text: black;\n",
       "  --sklearn-color-line: gray;\n",
       "  /* Definition of color scheme for unfitted estimators */\n",
       "  --sklearn-color-unfitted-level-0: #fff5e6;\n",
       "  --sklearn-color-unfitted-level-1: #f6e4d2;\n",
       "  --sklearn-color-unfitted-level-2: #ffe0b3;\n",
       "  --sklearn-color-unfitted-level-3: chocolate;\n",
       "  /* Definition of color scheme for fitted estimators */\n",
       "  --sklearn-color-fitted-level-0: #f0f8ff;\n",
       "  --sklearn-color-fitted-level-1: #d4ebff;\n",
       "  --sklearn-color-fitted-level-2: #b3dbfd;\n",
       "  --sklearn-color-fitted-level-3: cornflowerblue;\n",
       "\n",
       "  /* Specific color for light theme */\n",
       "  --sklearn-color-text-on-default-background: var(--sg-text-color, var(--theme-code-foreground, var(--jp-content-font-color1, black)));\n",
       "  --sklearn-color-background: var(--sg-background-color, var(--theme-background, var(--jp-layout-color0, white)));\n",
       "  --sklearn-color-border-box: var(--sg-text-color, var(--theme-code-foreground, var(--jp-content-font-color1, black)));\n",
       "  --sklearn-color-icon: #696969;\n",
       "\n",
       "  @media (prefers-color-scheme: dark) {\n",
       "    /* Redefinition of color scheme for dark theme */\n",
       "    --sklearn-color-text-on-default-background: var(--sg-text-color, var(--theme-code-foreground, var(--jp-content-font-color1, white)));\n",
       "    --sklearn-color-background: var(--sg-background-color, var(--theme-background, var(--jp-layout-color0, #111)));\n",
       "    --sklearn-color-border-box: var(--sg-text-color, var(--theme-code-foreground, var(--jp-content-font-color1, white)));\n",
       "    --sklearn-color-icon: #878787;\n",
       "  }\n",
       "}\n",
       "\n",
       "#sk-container-id-1 {\n",
       "  color: var(--sklearn-color-text);\n",
       "}\n",
       "\n",
       "#sk-container-id-1 pre {\n",
       "  padding: 0;\n",
       "}\n",
       "\n",
       "#sk-container-id-1 input.sk-hidden--visually {\n",
       "  border: 0;\n",
       "  clip: rect(1px 1px 1px 1px);\n",
       "  clip: rect(1px, 1px, 1px, 1px);\n",
       "  height: 1px;\n",
       "  margin: -1px;\n",
       "  overflow: hidden;\n",
       "  padding: 0;\n",
       "  position: absolute;\n",
       "  width: 1px;\n",
       "}\n",
       "\n",
       "#sk-container-id-1 div.sk-dashed-wrapped {\n",
       "  border: 1px dashed var(--sklearn-color-line);\n",
       "  margin: 0 0.4em 0.5em 0.4em;\n",
       "  box-sizing: border-box;\n",
       "  padding-bottom: 0.4em;\n",
       "  background-color: var(--sklearn-color-background);\n",
       "}\n",
       "\n",
       "#sk-container-id-1 div.sk-container {\n",
       "  /* jupyter's `normalize.less` sets `[hidden] { display: none; }`\n",
       "     but bootstrap.min.css set `[hidden] { display: none !important; }`\n",
       "     so we also need the `!important` here to be able to override the\n",
       "     default hidden behavior on the sphinx rendered scikit-learn.org.\n",
       "     See: https://github.com/scikit-learn/scikit-learn/issues/21755 */\n",
       "  display: inline-block !important;\n",
       "  position: relative;\n",
       "}\n",
       "\n",
       "#sk-container-id-1 div.sk-text-repr-fallback {\n",
       "  display: none;\n",
       "}\n",
       "\n",
       "div.sk-parallel-item,\n",
       "div.sk-serial,\n",
       "div.sk-item {\n",
       "  /* draw centered vertical line to link estimators */\n",
       "  background-image: linear-gradient(var(--sklearn-color-text-on-default-background), var(--sklearn-color-text-on-default-background));\n",
       "  background-size: 2px 100%;\n",
       "  background-repeat: no-repeat;\n",
       "  background-position: center center;\n",
       "}\n",
       "\n",
       "/* Parallel-specific style estimator block */\n",
       "\n",
       "#sk-container-id-1 div.sk-parallel-item::after {\n",
       "  content: \"\";\n",
       "  width: 100%;\n",
       "  border-bottom: 2px solid var(--sklearn-color-text-on-default-background);\n",
       "  flex-grow: 1;\n",
       "}\n",
       "\n",
       "#sk-container-id-1 div.sk-parallel {\n",
       "  display: flex;\n",
       "  align-items: stretch;\n",
       "  justify-content: center;\n",
       "  background-color: var(--sklearn-color-background);\n",
       "  position: relative;\n",
       "}\n",
       "\n",
       "#sk-container-id-1 div.sk-parallel-item {\n",
       "  display: flex;\n",
       "  flex-direction: column;\n",
       "}\n",
       "\n",
       "#sk-container-id-1 div.sk-parallel-item:first-child::after {\n",
       "  align-self: flex-end;\n",
       "  width: 50%;\n",
       "}\n",
       "\n",
       "#sk-container-id-1 div.sk-parallel-item:last-child::after {\n",
       "  align-self: flex-start;\n",
       "  width: 50%;\n",
       "}\n",
       "\n",
       "#sk-container-id-1 div.sk-parallel-item:only-child::after {\n",
       "  width: 0;\n",
       "}\n",
       "\n",
       "/* Serial-specific style estimator block */\n",
       "\n",
       "#sk-container-id-1 div.sk-serial {\n",
       "  display: flex;\n",
       "  flex-direction: column;\n",
       "  align-items: center;\n",
       "  background-color: var(--sklearn-color-background);\n",
       "  padding-right: 1em;\n",
       "  padding-left: 1em;\n",
       "}\n",
       "\n",
       "\n",
       "/* Toggleable style: style used for estimator/Pipeline/ColumnTransformer box that is\n",
       "clickable and can be expanded/collapsed.\n",
       "- Pipeline and ColumnTransformer use this feature and define the default style\n",
       "- Estimators will overwrite some part of the style using the `sk-estimator` class\n",
       "*/\n",
       "\n",
       "/* Pipeline and ColumnTransformer style (default) */\n",
       "\n",
       "#sk-container-id-1 div.sk-toggleable {\n",
       "  /* Default theme specific background. It is overwritten whether we have a\n",
       "  specific estimator or a Pipeline/ColumnTransformer */\n",
       "  background-color: var(--sklearn-color-background);\n",
       "}\n",
       "\n",
       "/* Toggleable label */\n",
       "#sk-container-id-1 label.sk-toggleable__label {\n",
       "  cursor: pointer;\n",
       "  display: block;\n",
       "  width: 100%;\n",
       "  margin-bottom: 0;\n",
       "  padding: 0.5em;\n",
       "  box-sizing: border-box;\n",
       "  text-align: center;\n",
       "}\n",
       "\n",
       "#sk-container-id-1 label.sk-toggleable__label-arrow:before {\n",
       "  /* Arrow on the left of the label */\n",
       "  content: \"▸\";\n",
       "  float: left;\n",
       "  margin-right: 0.25em;\n",
       "  color: var(--sklearn-color-icon);\n",
       "}\n",
       "\n",
       "#sk-container-id-1 label.sk-toggleable__label-arrow:hover:before {\n",
       "  color: var(--sklearn-color-text);\n",
       "}\n",
       "\n",
       "/* Toggleable content - dropdown */\n",
       "\n",
       "#sk-container-id-1 div.sk-toggleable__content {\n",
       "  max-height: 0;\n",
       "  max-width: 0;\n",
       "  overflow: hidden;\n",
       "  text-align: left;\n",
       "  /* unfitted */\n",
       "  background-color: var(--sklearn-color-unfitted-level-0);\n",
       "}\n",
       "\n",
       "#sk-container-id-1 div.sk-toggleable__content.fitted {\n",
       "  /* fitted */\n",
       "  background-color: var(--sklearn-color-fitted-level-0);\n",
       "}\n",
       "\n",
       "#sk-container-id-1 div.sk-toggleable__content pre {\n",
       "  margin: 0.2em;\n",
       "  border-radius: 0.25em;\n",
       "  color: var(--sklearn-color-text);\n",
       "  /* unfitted */\n",
       "  background-color: var(--sklearn-color-unfitted-level-0);\n",
       "}\n",
       "\n",
       "#sk-container-id-1 div.sk-toggleable__content.fitted pre {\n",
       "  /* unfitted */\n",
       "  background-color: var(--sklearn-color-fitted-level-0);\n",
       "}\n",
       "\n",
       "#sk-container-id-1 input.sk-toggleable__control:checked~div.sk-toggleable__content {\n",
       "  /* Expand drop-down */\n",
       "  max-height: 200px;\n",
       "  max-width: 100%;\n",
       "  overflow: auto;\n",
       "}\n",
       "\n",
       "#sk-container-id-1 input.sk-toggleable__control:checked~label.sk-toggleable__label-arrow:before {\n",
       "  content: \"▾\";\n",
       "}\n",
       "\n",
       "/* Pipeline/ColumnTransformer-specific style */\n",
       "\n",
       "#sk-container-id-1 div.sk-label input.sk-toggleable__control:checked~label.sk-toggleable__label {\n",
       "  color: var(--sklearn-color-text);\n",
       "  background-color: var(--sklearn-color-unfitted-level-2);\n",
       "}\n",
       "\n",
       "#sk-container-id-1 div.sk-label.fitted input.sk-toggleable__control:checked~label.sk-toggleable__label {\n",
       "  background-color: var(--sklearn-color-fitted-level-2);\n",
       "}\n",
       "\n",
       "/* Estimator-specific style */\n",
       "\n",
       "/* Colorize estimator box */\n",
       "#sk-container-id-1 div.sk-estimator input.sk-toggleable__control:checked~label.sk-toggleable__label {\n",
       "  /* unfitted */\n",
       "  background-color: var(--sklearn-color-unfitted-level-2);\n",
       "}\n",
       "\n",
       "#sk-container-id-1 div.sk-estimator.fitted input.sk-toggleable__control:checked~label.sk-toggleable__label {\n",
       "  /* fitted */\n",
       "  background-color: var(--sklearn-color-fitted-level-2);\n",
       "}\n",
       "\n",
       "#sk-container-id-1 div.sk-label label.sk-toggleable__label,\n",
       "#sk-container-id-1 div.sk-label label {\n",
       "  /* The background is the default theme color */\n",
       "  color: var(--sklearn-color-text-on-default-background);\n",
       "}\n",
       "\n",
       "/* On hover, darken the color of the background */\n",
       "#sk-container-id-1 div.sk-label:hover label.sk-toggleable__label {\n",
       "  color: var(--sklearn-color-text);\n",
       "  background-color: var(--sklearn-color-unfitted-level-2);\n",
       "}\n",
       "\n",
       "/* Label box, darken color on hover, fitted */\n",
       "#sk-container-id-1 div.sk-label.fitted:hover label.sk-toggleable__label.fitted {\n",
       "  color: var(--sklearn-color-text);\n",
       "  background-color: var(--sklearn-color-fitted-level-2);\n",
       "}\n",
       "\n",
       "/* Estimator label */\n",
       "\n",
       "#sk-container-id-1 div.sk-label label {\n",
       "  font-family: monospace;\n",
       "  font-weight: bold;\n",
       "  display: inline-block;\n",
       "  line-height: 1.2em;\n",
       "}\n",
       "\n",
       "#sk-container-id-1 div.sk-label-container {\n",
       "  text-align: center;\n",
       "}\n",
       "\n",
       "/* Estimator-specific */\n",
       "#sk-container-id-1 div.sk-estimator {\n",
       "  font-family: monospace;\n",
       "  border: 1px dotted var(--sklearn-color-border-box);\n",
       "  border-radius: 0.25em;\n",
       "  box-sizing: border-box;\n",
       "  margin-bottom: 0.5em;\n",
       "  /* unfitted */\n",
       "  background-color: var(--sklearn-color-unfitted-level-0);\n",
       "}\n",
       "\n",
       "#sk-container-id-1 div.sk-estimator.fitted {\n",
       "  /* fitted */\n",
       "  background-color: var(--sklearn-color-fitted-level-0);\n",
       "}\n",
       "\n",
       "/* on hover */\n",
       "#sk-container-id-1 div.sk-estimator:hover {\n",
       "  /* unfitted */\n",
       "  background-color: var(--sklearn-color-unfitted-level-2);\n",
       "}\n",
       "\n",
       "#sk-container-id-1 div.sk-estimator.fitted:hover {\n",
       "  /* fitted */\n",
       "  background-color: var(--sklearn-color-fitted-level-2);\n",
       "}\n",
       "\n",
       "/* Specification for estimator info (e.g. \"i\" and \"?\") */\n",
       "\n",
       "/* Common style for \"i\" and \"?\" */\n",
       "\n",
       ".sk-estimator-doc-link,\n",
       "a:link.sk-estimator-doc-link,\n",
       "a:visited.sk-estimator-doc-link {\n",
       "  float: right;\n",
       "  font-size: smaller;\n",
       "  line-height: 1em;\n",
       "  font-family: monospace;\n",
       "  background-color: var(--sklearn-color-background);\n",
       "  border-radius: 1em;\n",
       "  height: 1em;\n",
       "  width: 1em;\n",
       "  text-decoration: none !important;\n",
       "  margin-left: 1ex;\n",
       "  /* unfitted */\n",
       "  border: var(--sklearn-color-unfitted-level-1) 1pt solid;\n",
       "  color: var(--sklearn-color-unfitted-level-1);\n",
       "}\n",
       "\n",
       ".sk-estimator-doc-link.fitted,\n",
       "a:link.sk-estimator-doc-link.fitted,\n",
       "a:visited.sk-estimator-doc-link.fitted {\n",
       "  /* fitted */\n",
       "  border: var(--sklearn-color-fitted-level-1) 1pt solid;\n",
       "  color: var(--sklearn-color-fitted-level-1);\n",
       "}\n",
       "\n",
       "/* On hover */\n",
       "div.sk-estimator:hover .sk-estimator-doc-link:hover,\n",
       ".sk-estimator-doc-link:hover,\n",
       "div.sk-label-container:hover .sk-estimator-doc-link:hover,\n",
       ".sk-estimator-doc-link:hover {\n",
       "  /* unfitted */\n",
       "  background-color: var(--sklearn-color-unfitted-level-3);\n",
       "  color: var(--sklearn-color-background);\n",
       "  text-decoration: none;\n",
       "}\n",
       "\n",
       "div.sk-estimator.fitted:hover .sk-estimator-doc-link.fitted:hover,\n",
       ".sk-estimator-doc-link.fitted:hover,\n",
       "div.sk-label-container:hover .sk-estimator-doc-link.fitted:hover,\n",
       ".sk-estimator-doc-link.fitted:hover {\n",
       "  /* fitted */\n",
       "  background-color: var(--sklearn-color-fitted-level-3);\n",
       "  color: var(--sklearn-color-background);\n",
       "  text-decoration: none;\n",
       "}\n",
       "\n",
       "/* Span, style for the box shown on hovering the info icon */\n",
       ".sk-estimator-doc-link span {\n",
       "  display: none;\n",
       "  z-index: 9999;\n",
       "  position: relative;\n",
       "  font-weight: normal;\n",
       "  right: .2ex;\n",
       "  padding: .5ex;\n",
       "  margin: .5ex;\n",
       "  width: min-content;\n",
       "  min-width: 20ex;\n",
       "  max-width: 50ex;\n",
       "  color: var(--sklearn-color-text);\n",
       "  box-shadow: 2pt 2pt 4pt #999;\n",
       "  /* unfitted */\n",
       "  background: var(--sklearn-color-unfitted-level-0);\n",
       "  border: .5pt solid var(--sklearn-color-unfitted-level-3);\n",
       "}\n",
       "\n",
       ".sk-estimator-doc-link.fitted span {\n",
       "  /* fitted */\n",
       "  background: var(--sklearn-color-fitted-level-0);\n",
       "  border: var(--sklearn-color-fitted-level-3);\n",
       "}\n",
       "\n",
       ".sk-estimator-doc-link:hover span {\n",
       "  display: block;\n",
       "}\n",
       "\n",
       "/* \"?\"-specific style due to the `<a>` HTML tag */\n",
       "\n",
       "#sk-container-id-1 a.estimator_doc_link {\n",
       "  float: right;\n",
       "  font-size: 1rem;\n",
       "  line-height: 1em;\n",
       "  font-family: monospace;\n",
       "  background-color: var(--sklearn-color-background);\n",
       "  border-radius: 1rem;\n",
       "  height: 1rem;\n",
       "  width: 1rem;\n",
       "  text-decoration: none;\n",
       "  /* unfitted */\n",
       "  color: var(--sklearn-color-unfitted-level-1);\n",
       "  border: var(--sklearn-color-unfitted-level-1) 1pt solid;\n",
       "}\n",
       "\n",
       "#sk-container-id-1 a.estimator_doc_link.fitted {\n",
       "  /* fitted */\n",
       "  border: var(--sklearn-color-fitted-level-1) 1pt solid;\n",
       "  color: var(--sklearn-color-fitted-level-1);\n",
       "}\n",
       "\n",
       "/* On hover */\n",
       "#sk-container-id-1 a.estimator_doc_link:hover {\n",
       "  /* unfitted */\n",
       "  background-color: var(--sklearn-color-unfitted-level-3);\n",
       "  color: var(--sklearn-color-background);\n",
       "  text-decoration: none;\n",
       "}\n",
       "\n",
       "#sk-container-id-1 a.estimator_doc_link.fitted:hover {\n",
       "  /* fitted */\n",
       "  background-color: var(--sklearn-color-fitted-level-3);\n",
       "}\n",
       "</style><div id=\"sk-container-id-1\" class=\"sk-top-container\"><div class=\"sk-text-repr-fallback\"><pre>MultinomialNB()</pre><b>In a Jupyter environment, please rerun this cell to show the HTML representation or trust the notebook. <br />On GitHub, the HTML representation is unable to render, please try loading this page with nbviewer.org.</b></div><div class=\"sk-container\" hidden><div class=\"sk-item\"><div class=\"sk-estimator fitted sk-toggleable\"><input class=\"sk-toggleable__control sk-hidden--visually\" id=\"sk-estimator-id-1\" type=\"checkbox\" checked><label for=\"sk-estimator-id-1\" class=\"sk-toggleable__label fitted sk-toggleable__label-arrow fitted\">&nbsp;&nbsp;MultinomialNB<a class=\"sk-estimator-doc-link fitted\" rel=\"noreferrer\" target=\"_blank\" href=\"https://scikit-learn.org/1.5/modules/generated/sklearn.naive_bayes.MultinomialNB.html\">?<span>Documentation for MultinomialNB</span></a><span class=\"sk-estimator-doc-link fitted\">i<span>Fitted</span></span></label><div class=\"sk-toggleable__content fitted\"><pre>MultinomialNB()</pre></div> </div></div></div></div>"
      ],
      "text/plain": [
       "MultinomialNB()"
      ]
     },
     "execution_count": 27,
     "metadata": {},
     "output_type": "execute_result"
    }
   ],
   "source": [
    "from sklearn.naive_bayes import MultinomialNB\n",
    "naive_bayes_model=MultinomialNB()\n",
    "naive_bayes_model.fit(tf_train,df[\"Answers_Code\"])"
   ]
  },
  {
   "cell_type": "code",
   "execution_count": 28,
   "id": "f8753cee",
   "metadata": {
    "execution": {
     "iopub.execute_input": "2021-10-13T14:26:02.094938Z",
     "iopub.status.busy": "2021-10-13T14:26:02.094278Z",
     "iopub.status.idle": "2021-10-13T14:26:02.096617Z",
     "shell.execute_reply": "2021-10-13T14:26:02.096030Z",
     "shell.execute_reply.started": "2021-10-13T14:25:11.967381Z"
    },
    "id": "By_Q1ukbZTAP",
    "papermill": {
     "duration": 0.061811,
     "end_time": "2021-10-13T14:26:02.096753",
     "exception": false,
     "start_time": "2021-10-13T14:26:02.034942",
     "status": "completed"
    },
    "tags": []
   },
   "outputs": [],
   "source": [
    "def predict_answers(questions):\n",
    "    questions_prepped = [data_prep(question) for question in questions]\n",
    "    questions_vectorized = Tfidf_vectorizer.transform(questions_prepped)\n",
    "    predicted_codes = naive_bayes_model.predict(questions_vectorized)\n",
    "    predicted_answers = label_encoder.inverse_transform(predicted_codes)\n",
    "    return predicted_answers"
   ]
  },
  {
   "cell_type": "code",
   "execution_count": 29,
   "id": "4424f7ff",
   "metadata": {
    "execution": {
     "iopub.execute_input": "2021-10-13T14:26:02.162941Z",
     "iopub.status.busy": "2021-10-13T14:26:02.162294Z",
     "iopub.status.idle": "2021-10-13T14:26:02.166779Z",
     "shell.execute_reply": "2021-10-13T14:26:02.167356Z",
     "shell.execute_reply.started": "2021-10-13T14:25:11.973244Z"
    },
    "id": "OPMwVditpKQF",
    "papermill": {
     "duration": 0.039179,
     "end_time": "2021-10-13T14:26:02.167525",
     "exception": false,
     "start_time": "2021-10-13T14:26:02.128346",
     "status": "completed"
    },
    "tags": []
   },
   "outputs": [],
   "source": [
    "test_questions = [\n",
    "    \"How can someone help a friend who is experiencing depression?\",\n",
    "    \"What is the difference between a psychiatrist and a psychologist?\",\n",
    "    \"Can exercise help improve mental health?\",\n",
    "    \"Where can someone find resources for mental health support?\",\n",
    "    \"What is the difference between a psychiatrist and a psychologist?\",\n",
    "]"
   ]
  },
  {
   "cell_type": "code",
   "execution_count": 30,
   "id": "538c65a3",
   "metadata": {
    "execution": {
     "iopub.execute_input": "2021-10-13T14:26:02.233312Z",
     "iopub.status.busy": "2021-10-13T14:26:02.232673Z",
     "iopub.status.idle": "2021-10-13T14:26:02.237797Z",
     "shell.execute_reply": "2021-10-13T14:26:02.238310Z",
     "shell.execute_reply.started": "2021-10-13T14:25:11.983661Z"
    },
    "id": "_dMtu7UpqqXd",
    "outputId": "8f336fa0-d103-4557-ad79-75bf9a9ce3ed",
    "papermill": {
     "duration": 0.039517,
     "end_time": "2021-10-13T14:26:02.238472",
     "exception": false,
     "start_time": "2021-10-13T14:26:02.198955",
     "status": "completed"
    },
    "tags": []
   },
   "outputs": [
    {
     "name": "stdout",
     "output_type": "stream",
     "text": [
      "Question: How can someone help a friend who is experiencing depression?\n",
      "Answer: We naturally want to help a loved one who isn’t feeling well. How we can or should help may seem fairly obvious when a loved one experiences a physical health problem, but many people say they’re not sure how to best help when a loved one experiences a mental illness like depression. Here are some tips: \n",
      " You don’t have to understand exactly what someone else is experiencing, you just need to recognize that it’s a difficult experience. You can try something like, “I can see that this experience or these symptoms are really painful for you,” or, “I’m sorry to hear that you’re feeling unwell.” If you have experienced depression yourself, you might say, “I know how you feel.” Just remember that everyone experiences illnesses like depression differently, and empathy is about recognizing the impact of the illness, not comparing symptoms. \n",
      " You don’t have to be an expert, but learning more about depression can help you understand what’s going on (and maybe dispel some of the unhelpful myths around depression). Our Depression info sheet is a great place to start, and we have a list of resources at Q&A: Where can I learn more about depression? \n",
      " Sometimes talking about problems or concerns can really help—in fact, many people who experience a mood disorder say that they just want to be heard. It’s important to understand that talking about something difficult like experiences of depression can be very hard for your loved one. You cannot force them to talk about it, but you can invite them to, and create safe and quiet spaces to talk. If a loved one opens up to you, listen actively—that is, without distractions like your phone or the TV. Really pay attention to what they have to say. Listen with empathy and without judgement. Even if you don’t understand the problem or see the problem in a different way, your main concern is the distress or difficult feelings your loved one is experiencing. You can find in-depth tips on listening and communicating well in Module Three of the Family Toolkit. Some people are not ready to talk about everything at once, or at all. That’s okay! Respect your loved one’s boundaries and let them tell you what they’re ready to talk about. \n",
      " Even when you have the best intentions, unsolicited advice can be unhelpful. You likely can’t fix the problem, and you may not know the whole story. If you’d like to share what worked for you in a similar situation, you can ask if the other person would like to talk about strategies that worked for you. \n",
      " Different people need different things—don’t assume you know what’s best! Some people need emotional help, like someone they can talk with. Other people may have a good relationship with a counsellor or other professional, but they might need practical help, like help around the house or help sticking to their treatment plan. And others may simply want to be included in some social events. By asking what a person needs, you may also be less tempted to give advice. \n",
      " When people experience an episode of depression, they can have a lot of very negative thoughts and feelings. This can take a real toll on others. It’s a good idea to seek support for yourself—there are support groups just for family members and friends. The BC Schizophrenia Society has a directory of family support groups around BC for any mental illness. \n",
      " If your loved one isn’t happy with their treatment or would like to try a different option, you can also help them seek different resources or services. You can find general advice in the Ask Us section of HeretoHelp. To find local services, call the BC Mental Health Support Line at 310-6789 (no area code) or email us. \n",
      " This is very important! You are not responsible for your loved one’s treatment (unless your loved one is your child under 19)—but you can support them as they work towards recovery. In most cases, your loved one’s treatment and recovery plans are their choice—you are there to offer support and encouragement. \n",
      " In order for any treatment to work, your loved one needs to be actively involved. Forcing or threatening treatment generally doesn’t work and will only hurt everyone involved. In most cases, anyone 19 years of age and older is free to make their own choices. And their choices may include refusing treatment or choosing a treatment you disagree with. It’s important to be respectful and keep honest communication open between you. You can learn more about dealing with this situation in Ask Us: An adult in my life seems ill and won’t find help. What can I do? \n",
      " If your loved one says that they have thoughts of ending their life, it’s important to take action. Call 1-800-SUICIDE (1-800-784-2433) at any time or message online at www.crisiscentrechat.ca between noon and 1am. If you think your loved one is in immediate danger, you can always call 911 or go to a hospital emergency room.\n",
      "\n",
      "Question: What is the difference between a psychiatrist and a psychologist?\n",
      "Answer: A psychiatrist is a medical doctor with extra training in mental health who can choose to prescribe medications. Some use psychotherapy (‘talk therapies’) approaches like cognitive-behavioural therapy to treat mental health problems. Many psychiatrists work at hospitals, clinics, or health centres, and some have a private office. As they are specialist doctors, you will almost always need another doctor’s referral to see a psychiatrist, and fees are covered by MSP. If you have a valid BC Services or CareCard, you do not need to pay to see a psychiatrist. \n",
      " A registered psychologist focuses on different talk therapy or counselling approaches to treatments, but they don’t prescribe medication. They have graduate degrees in psychology. There are two different ways to access registered psychologists: the public system and the private system. Registered psychologists in the public system work in some hospitals or schools. You may need a doctor’s referral to access the program, and costs are usually covered by MSP. However, most people need to access registered psychologists through the private system. To do this, you can contact the psychologist yourself—you do not need a referral. Costs are not covered by MSP, but they may be covered by employee health plans. A registered psychologist’s fees charged by hour vary, and some offer lower fees to people with lower incomes. \n",
      " You’ve probably noticed that a lot of the differences come down to how you pay for different services and how these professionals are educated. The practical differences in how they work are not always so clear. When it comes to your treatment and care, the most important part is finding a professional who supports your own goals. Are you really focused on fine-tuning medications? Are you looking for a particular therapy approach? Does the professional’s philosophy of care make sense to you? Do you like the professional you’re talking to and do you feel safe sharing your experiences? Ultimately, your relationship with the professional is what matters. Instead of focusing on designation, look for a professional who meets your needs and your expectations. \n",
      " Talk to your family doctor and ask for their recommendations \n",
      " Ask local mental health organizations for help. You can find local branches through the provincial organizations behind HeretoHelp \n",
      " Ask a community health centre, outpatient psychiatry program, or mental health team for suggestions \n",
      " For a list of psychiatrists near you, search under ‘Specialist’ in the College of Physicians and Surgeons of British Columbia’s Find a Physician Tool but remember that you will first need a referral from a doctor (like your family doctor) \n",
      " For a list of psychologists near you, search in the British Columbia Psychological Association’s Find a Registered Psychologist tool and you can also learn more about finding a psychologist from the College of Psychologists of British Columbia\n",
      "\n",
      "Question: Can exercise help improve mental health?\n",
      "Answer: We all have mental health which is made up of our beliefs, thoughts, feelings and behaviours.\n",
      "\n",
      "Question: Where can someone find resources for mental health support?\n",
      "Answer: Support groups are a way for people with a common experience to help each other and learn from each other. There are support groups for people with any experience of mental illness, support groups for people with a specific diagnosis, support groups for family members and friends, and more. \n",
      " Support groups are offered by community organizations, mental health service providers, schools, campuses, and support agencies. Here are some general resources to help you find a mental health or substance use related support group in BC: \n",
      " Talk to your mental health care provider. They might be able to make recommendations. \n",
      " The Mood Disorders Association of BC offers a network of peer support groups around the province for people who experience mental illnesses like mood disorders or post-traumatic stress disorder. They also have groups for family and friends. Groups are drop-in. \n",
      " Many Canadian Mental Health Association branches offer support services, including support groups. If your local branch doesn’t have their own program, they can recommend other services in your community. \n",
      " The BC Schizophrenia Society maintains a directory of support groups and other regular events for family members of people with a mental illness. \n",
      " For groups related to alcohol or drug use, call the Alcohol and Drug Information Referral Service at 1-800-663-1441 or 604-660-9382 in the Lower Mainland. \n",
      " For groups in the Lower Mainland, search the Red Book Online. \n",
      " If you are at school or on campus, talk to a school counsellor or your campus’ health and wellness office. \n",
      " For online support, see some suggestions at www.heretohelp.bc.ca/discuss. This can be particularly useful if you don’t have a group in your community or have trouble getting to an in-person group. \n",
      " In order to benefit the most from a support group, you need to feel safe enough to share your experiences and thoughts, and you need to feel comfortable supporting others. It can be helpful to contact the group facilitator or organizer ahead of time to see if a particular group might be a good fit for you. We have a checklist to help you evaluate support groups—including when it might be time to leave one. \n",
      " Sometimes a group just doesn’t work for you, and that’s okay. If you feel comfortable, you can try talking to the facilitator to see if they can recommend another group that you can try.\n",
      "\n",
      "Question: What is the difference between a psychiatrist and a psychologist?\n",
      "Answer: A psychiatrist is a medical doctor with extra training in mental health who can choose to prescribe medications. Some use psychotherapy (‘talk therapies’) approaches like cognitive-behavioural therapy to treat mental health problems. Many psychiatrists work at hospitals, clinics, or health centres, and some have a private office. As they are specialist doctors, you will almost always need another doctor’s referral to see a psychiatrist, and fees are covered by MSP. If you have a valid BC Services or CareCard, you do not need to pay to see a psychiatrist. \n",
      " A registered psychologist focuses on different talk therapy or counselling approaches to treatments, but they don’t prescribe medication. They have graduate degrees in psychology. There are two different ways to access registered psychologists: the public system and the private system. Registered psychologists in the public system work in some hospitals or schools. You may need a doctor’s referral to access the program, and costs are usually covered by MSP. However, most people need to access registered psychologists through the private system. To do this, you can contact the psychologist yourself—you do not need a referral. Costs are not covered by MSP, but they may be covered by employee health plans. A registered psychologist’s fees charged by hour vary, and some offer lower fees to people with lower incomes. \n",
      " You’ve probably noticed that a lot of the differences come down to how you pay for different services and how these professionals are educated. The practical differences in how they work are not always so clear. When it comes to your treatment and care, the most important part is finding a professional who supports your own goals. Are you really focused on fine-tuning medications? Are you looking for a particular therapy approach? Does the professional’s philosophy of care make sense to you? Do you like the professional you’re talking to and do you feel safe sharing your experiences? Ultimately, your relationship with the professional is what matters. Instead of focusing on designation, look for a professional who meets your needs and your expectations. \n",
      " Talk to your family doctor and ask for their recommendations \n",
      " Ask local mental health organizations for help. You can find local branches through the provincial organizations behind HeretoHelp \n",
      " Ask a community health centre, outpatient psychiatry program, or mental health team for suggestions \n",
      " For a list of psychiatrists near you, search under ‘Specialist’ in the College of Physicians and Surgeons of British Columbia’s Find a Physician Tool but remember that you will first need a referral from a doctor (like your family doctor) \n",
      " For a list of psychologists near you, search in the British Columbia Psychological Association’s Find a Registered Psychologist tool and you can also learn more about finding a psychologist from the College of Psychologists of British Columbia\n",
      "\n"
     ]
    }
   ],
   "source": [
    "predicted_answers = predict_answers(test_questions)\n",
    "for question, answer in zip(test_questions, predicted_answers):\n",
    "    print(f\"Question: {question}\")\n",
    "    print(f\"Answer: {answer}\\n\")"
   ]
  },
  {
   "cell_type": "code",
   "execution_count": 33,
   "id": "6e1298de",
   "metadata": {
    "execution": {
     "iopub.execute_input": "2021-10-13T14:26:02.304495Z",
     "iopub.status.busy": "2021-10-13T14:26:02.303873Z",
     "iopub.status.idle": "2021-10-13T14:26:02.308902Z",
     "shell.execute_reply": "2021-10-13T14:26:02.309407Z",
     "shell.execute_reply.started": "2021-10-13T14:25:11.994027Z"
    },
    "id": "_tye9INgq2dE",
    "papermill": {
     "duration": 0.039315,
     "end_time": "2021-10-13T14:26:02.309561",
     "exception": false,
     "start_time": "2021-10-13T14:26:02.270246",
     "status": "completed"
    },
    "tags": []
   },
   "outputs": [],
   "source": [
    "import pickle\n",
    "\n",
    "# Save the trained model\n",
    "with open('./model.pkl', 'wb') as model_file:\n",
    "    pickle.dump(naive_bayes_model, model_file)\n",
    "\n",
    "# Save the vectorizer\n",
    "with open('./vectorizer.pkl', 'wb') as vectorizer_file:\n",
    "    pickle.dump(Tfidf_vectorizer, vectorizer_file)\n",
    "\n",
    "# Save the label encoder\n",
    "with open('./label_encoder.pkl', 'wb') as le_file:\n",
    "    pickle.dump(label_encoder, le_file)\n"
   ]
  },
  {
   "cell_type": "code",
   "execution_count": null,
   "id": "b966fd99",
   "metadata": {
    "execution": {
     "iopub.execute_input": "2021-10-13T14:26:02.375187Z",
     "iopub.status.busy": "2021-10-13T14:26:02.374569Z",
     "iopub.status.idle": "2021-10-13T14:26:02.379028Z",
     "shell.execute_reply": "2021-10-13T14:26:02.379503Z",
     "shell.execute_reply.started": "2021-10-13T14:25:12.001985Z"
    },
    "id": "8d9LnmT9rmKH",
    "outputId": "1d961d30-2c29-4e71-90a9-d98842b3f134",
    "papermill": {
     "duration": 0.038834,
     "end_time": "2021-10-13T14:26:02.379655",
     "exception": false,
     "start_time": "2021-10-13T14:26:02.340821",
     "status": "completed"
    },
    "tags": []
   },
   "outputs": [
    {
     "data": {
      "text/plain": [
       "2"
      ]
     },
     "execution_count": 31,
     "metadata": {},
     "output_type": "execute_result"
    }
   ],
   "source": []
  },
  {
   "cell_type": "code",
   "execution_count": null,
   "id": "d14e4f7d",
   "metadata": {},
   "outputs": [],
   "source": []
  },
  {
   "cell_type": "code",
   "execution_count": null,
   "id": "225e82c5",
   "metadata": {},
   "outputs": [],
   "source": []
  },
  {
   "cell_type": "code",
   "execution_count": null,
   "id": "78c86fcf",
   "metadata": {},
   "outputs": [],
   "source": []
  },
  {
   "cell_type": "code",
   "execution_count": null,
   "id": "076abb99",
   "metadata": {},
   "outputs": [],
   "source": []
  }
 ],
 "metadata": {
  "kernelspec": {
   "display_name": "Python 3",
   "language": "python",
   "name": "python3"
  },
  "language_info": {
   "codemirror_mode": {
    "name": "ipython",
    "version": 3
   },
   "file_extension": ".py",
   "mimetype": "text/x-python",
   "name": "python",
   "nbconvert_exporter": "python",
   "pygments_lexer": "ipython3",
   "version": "3.9.7"
  },
  "papermill": {
   "default_parameters": {},
   "duration": 15.812824,
   "end_time": "2021-10-13T14:26:03.687708",
   "environment_variables": {},
   "exception": null,
   "input_path": "__notebook__.ipynb",
   "output_path": "__notebook__.ipynb",
   "parameters": {},
   "start_time": "2021-10-13T14:25:47.874884",
   "version": "2.3.3"
  }
 },
 "nbformat": 4,
 "nbformat_minor": 5
}
